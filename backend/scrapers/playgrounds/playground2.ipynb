{
 "cells": [
  {
   "cell_type": "code",
   "execution_count": 79,
   "source": [
    "from requests_html import AsyncHTMLSession\n",
    "import json\n",
    "from random_user_agent.user_agent import UserAgent\n",
    "from random_user_agent.params import SoftwareName, OperatingSystem\n",
    "from pyppeteer import launch\n",
    "import asyncio"
   ],
   "outputs": [],
   "metadata": {}
  },
  {
   "cell_type": "code",
   "execution_count": 80,
   "source": [
    "headers = {\n",
    "    \"accept\": \"text/html,application/xhtml+xml,application/xml;q=0.9,image/webp,image/apng,*/*;q=0.8,application/signed-exchange;v=b3\",\n",
    "    \"accept-encoding\": \"gzip, deflate, br\",\n",
    "    \"accept-language\": \"en-US,en;q=0.9\",\n",
    "    \"cache-control\": \"no-cache\",\n",
    "    \"pragma\": \"no-cache\",\n",
    "    # \"sec-ch-ua\": '.Not/A)Brand\";v=\"99\", \"Google Chrome\";v=\"103\", \"Chromium\";v=\"103',\n",
    "    \"sec-ch-ua-mobile\": \"?0\",\n",
    "    \"sec-ch-ua-platform\": \"macOS\",\n",
    "    \"upgrade-insecure-requests\": \"1\",\n",
    "    # \"user-agent\": \"Mozilla/5.0 (Macintosh; Intel Mac OS X 10_15_7) AppleWebKit/537.36 (KHTML, like Gecko) Chrome/103.0.0.0 Safari/537.36\"\n",
    "}"
   ],
   "outputs": [],
   "metadata": {}
  },
  {
   "cell_type": "code",
   "execution_count": 81,
   "source": [
    "software_names = [SoftwareName.CHROME.value]\n",
    "operating_systems = [OperatingSystem.MAC.value]\n",
    "user_agent_rotator = UserAgent(software_names=software_names, operating_systems=operating_systems, limit=100)\n",
    "user_agent = user_agent_rotator.get_random_user_agent()\n",
    "user_agent"
   ],
   "outputs": [
    {
     "output_type": "execute_result",
     "data": {
      "text/plain": [
       "'Mozilla/5.0 (Macintosh; Intel Mac 0S X) AppleWebKit (KHTML, like Gecko) Chrome Safari'"
      ]
     },
     "metadata": {},
     "execution_count": 81
    }
   ],
   "metadata": {}
  },
  {
   "cell_type": "code",
   "execution_count": 82,
   "source": [
    "headers['user-agent'] = user_agent\n",
    "headers"
   ],
   "outputs": [
    {
     "output_type": "execute_result",
     "data": {
      "text/plain": [
       "{'accept': 'text/html,application/xhtml+xml,application/xml;q=0.9,image/webp,image/apng,*/*;q=0.8,application/signed-exchange;v=b3',\n",
       " 'accept-encoding': 'gzip, deflate, br',\n",
       " 'accept-language': 'en-US,en;q=0.9',\n",
       " 'cache-control': 'no-cache',\n",
       " 'pragma': 'no-cache',\n",
       " 'sec-ch-ua-mobile': '?0',\n",
       " 'sec-ch-ua-platform': 'macOS',\n",
       " 'upgrade-insecure-requests': '1',\n",
       " 'user-agent': 'Mozilla/5.0 (Macintosh; Intel Mac 0S X) AppleWebKit (KHTML, like Gecko) Chrome Safari'}"
      ]
     },
     "metadata": {},
     "execution_count": 82
    }
   ],
   "metadata": {}
  },
  {
   "cell_type": "code",
   "execution_count": 168,
   "source": [
    "browser = await launch(headless = False)\n",
    "page = await browser.newPage()"
   ],
   "outputs": [],
   "metadata": {}
  },
  {
   "cell_type": "code",
   "execution_count": 169,
   "source": [
    "# await page.setExtraHTTPHeaders(headers=headers)\n",
    "await page.goto('https://www.twitter.com/login')"
   ],
   "outputs": [
    {
     "output_type": "execute_result",
     "data": {
      "text/plain": [
       "<pyppeteer.network_manager.Response at 0x108b4a650>"
      ]
     },
     "metadata": {},
     "execution_count": 169
    }
   ],
   "metadata": {}
  },
  {
   "cell_type": "code",
   "execution_count": 170,
   "source": [
    "username = (await page.Jx('//input[@autocomplete=\"username\"]'))[0]\n",
    "await username.type('milanravenell@gmail.com')\n",
    "await username.press('Enter')"
   ],
   "outputs": [],
   "metadata": {}
  },
  {
   "cell_type": "code",
   "execution_count": null,
   "source": [
    "phone_number_exists = not (await page.Jx('//span[contains(text(), \"Enter your phone number or username\")]')) == []\n",
    "phone_number_exists"
   ],
   "outputs": [
    {
     "output_type": "execute_result",
     "data": {
      "text/plain": [
       "False"
      ]
     },
     "metadata": {},
     "execution_count": 17
    }
   ],
   "metadata": {}
  },
  {
   "cell_type": "code",
   "execution_count": null,
   "source": [
    "text_input = await page.J('input')\n",
    "password = text_input\n",
    "await password.type('digitaldashapp')\n",
    "await password.press('Enter')"
   ],
   "outputs": [],
   "metadata": {}
  },
  {
   "cell_type": "code",
   "execution_count": null,
   "source": [],
   "outputs": [],
   "metadata": {}
  },
  {
   "cell_type": "code",
   "execution_count": 171,
   "source": [
    "await page.goto(f'https://analytics.twitter.com/user/MillyTheYounger/tweets')"
   ],
   "outputs": [
    {
     "output_type": "execute_result",
     "data": {
      "text/plain": [
       "<pyppeteer.network_manager.Response at 0x108b48610>"
      ]
     },
     "metadata": {},
     "execution_count": 171
    }
   ],
   "metadata": {}
  },
  {
   "cell_type": "code",
   "execution_count": 172,
   "source": [
    "tweets_and_replies = (await page.Jx('//a[@id=\"tweets-and-replies-filter\"]'))[0]\n",
    "await tweets_and_replies.click()"
   ],
   "outputs": [],
   "metadata": {}
  },
  {
   "cell_type": "code",
   "execution_count": 193,
   "source": [
    "date_picker_button = (await page.Jx('//div[@id=\"daterange-button\"]'))[0]\n",
    "await date_picker_button.click()\n",
    "\n",
    "left_calendar = (await page.Jx('//div[@class=\"calendar left\"]'))[0]\n",
    "prev_button = (await left_calendar.Jx('.//th[@class=\"prev available\"]'))[0]\n",
    "await prev_button.click()\n",
    "\n",
    "first_of_the_month = (await left_calendar.Jx('.//td[text()=\"1\"]'))[0]\n",
    "await first_of_the_month.click()\n",
    "\n",
    "update_button = (await page.Jx('//button[contains(text(), \"Update\")]'))[0]\n",
    "await update_button.click()"
   ],
   "outputs": [],
   "metadata": {}
  },
  {
   "cell_type": "code",
   "execution_count": 174,
   "source": [],
   "outputs": [],
   "metadata": {}
  },
  {
   "cell_type": "code",
   "execution_count": 175,
   "source": [],
   "outputs": [],
   "metadata": {}
  },
  {
   "cell_type": "code",
   "execution_count": 176,
   "source": [],
   "outputs": [],
   "metadata": {}
  },
  {
   "cell_type": "code",
   "execution_count": 194,
   "source": [
    "tweets = await page.Jx('//li[@class=\"topn-page tweet-activity-tweet-group\"]')\n",
    "tweets"
   ],
   "outputs": [
    {
     "output_type": "execute_result",
     "data": {
      "text/plain": [
       "[<pyppeteer.element_handle.ElementHandle at 0x10893dba0>,\n",
       " <pyppeteer.element_handle.ElementHandle at 0x10893f040>,\n",
       " <pyppeteer.element_handle.ElementHandle at 0x10893ea70>,\n",
       " <pyppeteer.element_handle.ElementHandle at 0x10893ea10>,\n",
       " <pyppeteer.element_handle.ElementHandle at 0x10893d6c0>,\n",
       " <pyppeteer.element_handle.ElementHandle at 0x10893f5b0>]"
      ]
     },
     "metadata": {},
     "execution_count": 194
    }
   ],
   "metadata": {}
  },
  {
   "cell_type": "code",
   "execution_count": 205,
   "source": [
    "tweet = tweets[2]\n",
    "props = await page.evaluate('(element) => element.getAttribute(\"data-tweet-id\")', tweet)\n",
    "# tweet_id = await prop.getProperties()\n",
    "print(props)"
   ],
   "outputs": [
    {
     "output_type": "stream",
     "name": "stdout",
     "text": [
      "1338652647264563204\n"
     ]
    }
   ],
   "metadata": {}
  },
  {
   "cell_type": "code",
   "execution_count": 202,
   "source": [
    "await page.evaluate('el => el.scrollIntoView(false)', tweet)\n",
    "bounding_box = await tweet.boundingBox()\n",
    "x = bounding_box['x']\n",
    "y = bounding_box['y']\n",
    "width = bounding_box['width']\n",
    "height = bounding_box['height']\n",
    "bounding_box"
   ],
   "outputs": [
    {
     "output_type": "execute_result",
     "data": {
      "text/plain": [
       "{'x': 12, 'y': 453, 'width': 845.5, 'height': 132}"
      ]
     },
     "metadata": {},
     "execution_count": 202
    }
   ],
   "metadata": {}
  },
  {
   "cell_type": "code",
   "execution_count": 203,
   "source": [
    "await page.mouse.click(x+ width - 5, y + 5)"
   ],
   "outputs": [],
   "metadata": {}
  },
  {
   "cell_type": "code",
   "execution_count": 206,
   "source": [
    "await page.evaluate('el=>el.click()', tweet)"
   ],
   "outputs": [],
   "metadata": {}
  },
  {
   "cell_type": "code",
   "execution_count": 198,
   "source": [
    "close_button = (await page.Jx('//button[@class=\"Sheet-close\"]'))[0]\n",
    "await close_button.click()"
   ],
   "outputs": [],
   "metadata": {}
  },
  {
   "cell_type": "code",
   "execution_count": 61,
   "source": [
    "frame = await (await page.J('iframe')).contentFrame()\n",
    "impressions_el = (await (await frame.Jx('//div[@class=\"ep-ImpressionsSection\"]'))[0].Jx('.//span[@class=\"ep-MetricAnimation\"]'))[0]\n",
    "impressions = await frame.evaluate('(e) => e.textContent', impressions_el)\n",
    "impressions"
   ],
   "outputs": [
    {
     "output_type": "execute_result",
     "data": {
      "text/plain": [
       "'45'"
      ]
     },
     "metadata": {},
     "execution_count": 61
    }
   ],
   "metadata": {}
  },
  {
   "cell_type": "code",
   "execution_count": 63,
   "source": [
    "engagements_div = (await frame.Jx('//div[@class=\"ep-EngagementsSection\"]'))[0]\n",
    "engagements_el = (await engagements_div.Jx('.//span[@class=\"ep-MetricAnimation\"]'))[0]\n",
    "engagements = await frame.evaluate('(e) => e.textContent', engagements_el)\n",
    "engagements"
   ],
   "outputs": [
    {
     "output_type": "execute_result",
     "data": {
      "text/plain": [
       "'3'"
      ]
     },
     "metadata": {},
     "execution_count": 63
    }
   ],
   "metadata": {}
  },
  {
   "cell_type": "code",
   "execution_count": 73,
   "source": [
    "def clean_string(text):\n",
    "    return ''.join(c for c in text if c.isalnum())"
   ],
   "outputs": [],
   "metadata": {}
  },
  {
   "cell_type": "code",
   "execution_count": 74,
   "source": [
    "record = {}\n",
    "engagement_rows = await (await engagements_div.J('tbody')).JJ('tr')\n",
    "for row in engagement_rows:\n",
    "    engagement_type = (await frame.evaluate(\n",
    "        '(e) => e.textContent',\n",
    "        (await row.Jx('.//span[@class=\"ep-EngagementsTableName\"]'))[0]\n",
    "    ))\n",
    "    engagement_value = await frame.evaluate(\n",
    "        '(e) => e.textContent',\n",
    "        (await row.Jx('.//span[@class=\"ep-MetricAnimation\"]'))[0]\n",
    "    )\n",
    "\n",
    "    record[clean_string(engagement_type)] = clean_string(engagement_value)\n",
    "record"
   ],
   "outputs": [
    {
     "output_type": "execute_result",
     "data": {
      "text/plain": [
       "{'Profileclicks': '3'}"
      ]
     },
     "metadata": {},
     "execution_count": 74
    }
   ],
   "metadata": {}
  },
  {
   "cell_type": "code",
   "execution_count": 77,
   "source": [
    "close_button = (await page.Jx('//button[@class=\"Sheet-close\"]'))[0]\n",
    "await close_button.click()"
   ],
   "outputs": [],
   "metadata": {}
  }
 ],
 "metadata": {
  "orig_nbformat": 4,
  "language_info": {
   "name": "python",
   "version": "3.10.5",
   "mimetype": "text/x-python",
   "codemirror_mode": {
    "name": "ipython",
    "version": 3
   },
   "pygments_lexer": "ipython3",
   "nbconvert_exporter": "python",
   "file_extension": ".py"
  },
  "kernelspec": {
   "name": "python3",
   "display_name": "Python 3.10.5 64-bit ('3.10.5': pyenv)"
  },
  "interpreter": {
   "hash": "877848e232418fe80a2f7cf74ce47111d82c91fc283475d01ebd594ed7a360fd"
  }
 },
 "nbformat": 4,
 "nbformat_minor": 2
}