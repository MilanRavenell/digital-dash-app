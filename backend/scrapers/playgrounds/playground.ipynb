{
 "cells": [
  {
   "cell_type": "code",
   "execution_count": 1,
   "metadata": {},
   "outputs": [],
   "source": [
    "from requests_html import AsyncHTMLSession\n",
    "import json\n",
    "from random_user_agent.user_agent import UserAgent\n",
    "from random_user_agent.params import SoftwareName, OperatingSystem\n",
    "from pyppeteer import launch\n",
    "import asyncio"
   ]
  },
  {
   "cell_type": "code",
   "execution_count": 3,
   "metadata": {},
   "outputs": [],
   "source": [
    "headers = {\n",
    "    \"accept\": \"text/html,application/xhtml+xml,application/xml;q=0.9,image/webp,image/apng,*/*;q=0.8,application/signed-exchange;v=b3\",\n",
    "    \"accept-encoding\": \"gzip, deflate, br\",\n",
    "    \"accept-language\": \"en-US,en;q=0.9\",\n",
    "    \"cache-control\": \"no-cache\",\n",
    "    \"pragma\": \"no-cache\",\n",
    "    # \"sec-ch-ua\": '.Not/A)Brand\";v=\"99\", \"Google Chrome\";v=\"103\", \"Chromium\";v=\"103',\n",
    "    \"sec-ch-ua-mobile\": \"?0\",\n",
    "    \"sec-ch-ua-platform\": \"macOS\",\n",
    "    \"upgrade-insecure-requests\": \"1\",\n",
    "    \"user-agent\": \"Mozilla/5.0 (Macintosh; Intel Mac OS X 10_15_7) AppleWebKit/537.36 (KHTML, like Gecko) Chrome/103.0.0.0 Safari/537.36\"\n",
    "}"
   ]
  },
  {
   "cell_type": "code",
   "execution_count": 42,
   "metadata": {},
   "outputs": [
    {
     "data": {
      "text/plain": [
       "'\"Mozilla/5.0 (Macintosh; Win64; x67) AppleWebKit/537.36 (KHTML, like Gecko) Chrome/68.0.3282.186 Safari/537.36\"'"
      ]
     },
     "execution_count": 42,
     "metadata": {},
     "output_type": "execute_result"
    }
   ],
   "source": [
    "software_names = [SoftwareName.CHROME.value]\n",
    "operating_systems = [OperatingSystem.MAC.value]\n",
    "user_agent_rotator = UserAgent(software_names=software_names, operating_systems=operating_systems, limit=100)\n",
    "user_agent = user_agent_rotator.get_random_user_agent()\n",
    "user_agent"
   ]
  },
  {
   "cell_type": "code",
   "execution_count": 43,
   "metadata": {},
   "outputs": [
    {
     "data": {
      "text/plain": [
       "{'accept': 'text/html,application/xhtml+xml,application/xml;q=0.9,image/webp,image/apng,*/*;q=0.8,application/signed-exchange;v=b3',\n",
       " 'accept-encoding': 'gzip, deflate, br',\n",
       " 'accept-language': 'en-US,en;q=0.9',\n",
       " 'cache-control': 'no-cache',\n",
       " 'pragma': 'no-cache',\n",
       " 'sec-ch-ua-mobile': '?0',\n",
       " 'sec-ch-ua-platform': 'macOS',\n",
       " 'upgrade-insecure-requests': '1',\n",
       " 'user-agent': '\"Mozilla/5.0 (Macintosh; Win64; x67) AppleWebKit/537.36 (KHTML, like Gecko) Chrome/68.0.3282.186 Safari/537.36\"'}"
      ]
     },
     "execution_count": 43,
     "metadata": {},
     "output_type": "execute_result"
    }
   ],
   "source": [
    "headers['user-agent'] = user_agent\n",
    "headers"
   ]
  },
  {
   "cell_type": "code",
   "execution_count": 5,
   "metadata": {},
   "outputs": [],
   "source": [
    "browser = await launch(headless=False)\n",
    "page = await browser.newPage()"
   ]
  },
  {
   "cell_type": "code",
   "execution_count": 6,
   "metadata": {},
   "outputs": [],
   "source": [
    "async def intercept(response):\n",
    "    # if 'api/post/item_list' in response.url:\n",
    "    try:\n",
    "        if 'api/post/item_list' in response.url:\n",
    "            print(response.url)\n",
    "            print(response.status)\n",
    "            print(response.request.headers)\n",
    "            text = await response.text()\n",
    "            print('text:')\n",
    "            print(text)\n",
    "            return\n",
    "    except:\n",
    "        pass\n",
    "    # print(await response.text())\n",
    "\n",
    "page.on('response', lambda req: asyncio.ensure_future(intercept(req)))\n",
    "await page.setExtraHTTPHeaders(headers=headers)\n",
    "\n",
    "# await page.setJavaScriptEnabled(False)\n",
    "r = await page.goto('https://www.youtube.com')\n"
   ]
  },
  {
   "cell_type": "code",
   "execution_count": 37,
   "metadata": {},
   "outputs": [
    {
     "data": {
      "text/plain": [
       "'<!DOCTYPE html><html lang=\"en\" data-rh=\"lang\" class=\"hydrated\"><head><meta charset=\"UTF-8\"><style da'"
      ]
     },
     "execution_count": 37,
     "metadata": {},
     "output_type": "execute_result"
    }
   ],
   "source": [
    "(await page.content())[0:100]"
   ]
  },
  {
   "cell_type": "code",
   "execution_count": 38,
   "metadata": {},
   "outputs": [
    {
     "name": "stdout",
     "output_type": "stream",
     "text": [
      "30\n"
     ]
    },
    {
     "name": "stderr",
     "output_type": "stream",
     "text": [
      "Task was destroyed but it is pending!\n",
      "task: <Task pending name='Task-14793' coro=<intercept() done, defined at /var/folders/gj/b5t_bbln6ln144wbbhp7fp4r0000gn/T/ipykernel_18024/2510607432.py:8> wait_for=<Task pending name='Task-14794' coro=<Response._bufread() running at /Users/milanravenell/.pyenv/versions/3.10.5/lib/python3.10/site-packages/pyppeteer/network_manager.py:650> wait_for=<Future pending cb=[Task.task_wakeup()]> cb=[Task.task_wakeup()]>>\n",
      "Task was destroyed but it is pending!\n",
      "task: <Task pending name='Task-14794' coro=<Response._bufread() done, defined at /Users/milanravenell/.pyenv/versions/3.10.5/lib/python3.10/site-packages/pyppeteer/network_manager.py:649> wait_for=<Future pending cb=[Task.task_wakeup()]> cb=[Task.task_wakeup()]>\n"
     ]
    }
   ],
   "source": [
    "# result = await page.Jx('//div[@data-e2e=\"user-post-item\"]')\n",
    "result = await page.Jx('//div[@class=\"tiktok-x6y88p-DivItemContainerV2 e19c29qe7\"]')\n",
    "print(len(result))"
   ]
  },
  {
   "cell_type": "code",
   "execution_count": 36,
   "metadata": {},
   "outputs": [
    {
     "name": "stdout",
     "output_type": "stream",
     "text": [
      "https://us.tiktok.com/api/post/item_list/?aid=1988&app_language=en&app_name=tiktok_web&battery_info=1&browser_language=en-US&browser_name=Mozilla&browser_online=true&browser_platform=MacIntel&browser_version=5.0%20%28Macintosh%3B%20Intel%20Mac%20OS%20X%2010_16_0%29%20AppleWebKit%2F537.36%20%28KHTML%2C%20like%20Gecko%29%20HeadlessChrome%2F71.0.3542.0%20Safari%2F537.36&channel=tiktok_web&cookie_enabled=true&device_id=7124400968418395690&device_platform=web_pc&focus_state=true&from_page=user&history_len=2&is_fullscreen=false&is_page_visible=true&os=mac&priority_region=&referer=&region=US&screen_height=900&screen_width=1440&tz_name=America%2FLos_Angeles&webcast_language=en&msToken=I3oO0zyUEgTEFR_n_n7fmVlm1CxFQNUUoHnO6ZZC7kZV5YgVa5r-LAUCaXO5Ik4jkHfbSPjp_yYLl39mWunbfIJ9Amu7GDFPLaxzbfIInGsxid13tOmzIZ2qpnQZmqw-akp7&X-Bogus=DFSzsIROC30ANVomSIYninTC3jc3&_signature=_02B4Z6wo00001EVfMeAAAIDDmtWvK3FK32BFXhVAAHOQ45\n",
      "200\n",
      "{'pragma': 'no-cache', 'access-control-request-method': 'GET', 'origin': 'https://www.tiktok.com', 'accept-encoding': 'gzip, deflate, br', 'cache-control': 'no-cache', 'accept-language': 'en-US,en;q=0.9', 'sec-ch-ua-mobile': '?0', 'user-agent': 'Mozilla/5.0 (Macintosh; Intel macOS 12.1) AppleWebKit/537.36 (KHTML, like Gecko) Chrome/56.0.2924.76 Safari/537.36', 'accept': 'text/html,application/xhtml+xml,application/xml;q=0.9,image/webp,image/apng,*/*;q=0.8,application/signed-exchange;v=b3', 'referer': 'https://www.tiktok.com/', 'upgrade-insecure-requests': '1', 'sec-ch-ua-platform': 'macOS', 'access-control-request-headers': 'x-tt-params'}\n",
      "https://us.tiktok.com/api/post/item_list/?aid=1988&app_language=en&app_name=tiktok_web&battery_info=1&browser_language=en-US&browser_name=Mozilla&browser_online=true&browser_platform=MacIntel&browser_version=5.0%20%28Macintosh%3B%20Intel%20Mac%20OS%20X%2010_16_0%29%20AppleWebKit%2F537.36%20%28KHTML%2C%20like%20Gecko%29%20HeadlessChrome%2F71.0.3542.0%20Safari%2F537.36&channel=tiktok_web&cookie_enabled=true&device_id=7124400968418395690&device_platform=web_pc&focus_state=true&from_page=user&history_len=2&is_fullscreen=false&is_page_visible=true&os=mac&priority_region=&referer=&region=US&screen_height=900&screen_width=1440&tz_name=America%2FLos_Angeles&webcast_language=en&msToken=I3oO0zyUEgTEFR_n_n7fmVlm1CxFQNUUoHnO6ZZC7kZV5YgVa5r-LAUCaXO5Ik4jkHfbSPjp_yYLl39mWunbfIJ9Amu7GDFPLaxzbfIInGsxid13tOmzIZ2qpnQZmqw-akp7&X-Bogus=DFSzsIROC30ANVomSIYninTC3jc3&_signature=_02B4Z6wo00001EVfMeAAAIDDmtWvK3FK32BFXhVAAHOQ45\n",
      "200\n",
      "{'pragma': 'no-cache', 'access-control-request-method': 'GET', 'origin': 'https://www.tiktok.com', 'accept-encoding': 'gzip, deflate, br', 'cache-control': 'no-cache', 'accept-language': 'en-US,en;q=0.9', 'sec-ch-ua-mobile': '?0', 'user-agent': 'Mozilla/5.0 (Macintosh; Intel macOS 12.1) AppleWebKit/537.36 (KHTML, like Gecko) Chrome/56.0.2924.76 Safari/537.36', 'accept': 'text/html,application/xhtml+xml,application/xml;q=0.9,image/webp,image/apng,*/*;q=0.8,application/signed-exchange;v=b3', 'referer': 'https://www.tiktok.com/', 'upgrade-insecure-requests': '1', 'sec-ch-ua-platform': 'macOS', 'access-control-request-headers': 'x-tt-params'}\n",
      "text:\n",
      "\"Options Request!\"\n",
      "https://us.tiktok.com/api/post/item_list/?aid=1988&app_language=en&app_name=tiktok_web&battery_info=1&browser_language=en-US&browser_name=Mozilla&browser_online=true&browser_platform=MacIntel&browser_version=5.0%20%28Macintosh%3B%20Intel%20Mac%20OS%20X%2010_16_0%29%20AppleWebKit%2F537.36%20%28KHTML%2C%20like%20Gecko%29%20HeadlessChrome%2F71.0.3542.0%20Safari%2F537.36&channel=tiktok_web&cookie_enabled=true&device_id=7124400968418395690&device_platform=web_pc&focus_state=true&from_page=user&history_len=2&is_fullscreen=false&is_page_visible=true&os=mac&priority_region=&referer=&region=US&screen_height=900&screen_width=1440&tz_name=America%2FLos_Angeles&webcast_language=en&msToken=I3oO0zyUEgTEFR_n_n7fmVlm1CxFQNUUoHnO6ZZC7kZV5YgVa5r-LAUCaXO5Ik4jkHfbSPjp_yYLl39mWunbfIJ9Amu7GDFPLaxzbfIInGsxid13tOmzIZ2qpnQZmqw-akp7&X-Bogus=DFSzsIROC30ANVomSIYninTC3jc3&_signature=_02B4Z6wo00001EVfMeAAAIDDmtWvK3FK32BFXhVAAHOQ45\n",
      "200\n",
      "{'pragma': 'no-cache', 'origin': 'https://www.tiktok.com', 'accept-encoding': 'gzip, deflate, br', 'cache-control': 'no-cache', 'accept-language': 'en-US,en;q=0.9', 'sec-ch-ua-mobile': '?0', 'user-agent': 'Mozilla/5.0 (Macintosh; Intel macOS 12.1) AppleWebKit/537.36 (KHTML, like Gecko) Chrome/56.0.2924.76 Safari/537.36', 'accept': 'text/html,application/xhtml+xml,application/xml;q=0.9,image/webp,image/apng,*/*;q=0.8,application/signed-exchange;v=b3', 'referer': 'https://www.tiktok.com/', 'upgrade-insecure-requests': '1', 'x-tt-params': '4mOJhGnMOdadxrLEy2bkmGSR2R38w8nZC8MQKREioTAU76aXIbW+KkRzj5O7qqbOI65rqSqkFAXNltiJ1p2YyvalYQ0VbxXkcXRyJfQSSRTEQRbZTLIvtG6iWQD07ayTcN+Db30qn6YZBhsBTnE9Dk2UyrScJErF5sIGEw6KCTeajdPKDEXmDN+VSpzRsZLJUm92iqNTEugJINhBT2qHB2qT8ozVpMDogYLbRC3h8BhbiQmbJa7TR69j9xSE8cNZYfnaCZO5zXS3tBNwgEzBivke6v4bcM2zjWM0+OpAaQG/ODBefV7gDXVPVOFEOpBxH9uTdsQ/iUkmpPHtqqy4sUlqsMaobzDriwobuSbCMlz4yjpfN5E1t/zADgY7UxYIdfp1zzB8cda/Bu8JJ0vhrBx2jbZ/IybXVYQMrM1nUxWHaBjSqxBKHQjsl6GwD+8IYwR2YRUEwNEgdvYSTA2184Y5jeXVFrbkduM7Lrva7dwqd86bLJWxnrA8AhWU93zGSFHOz5DBvsz5ukEbBxBeN1/CWrP4AaajPj5O42EgJDoLr8wDPz5y5H63QiXFq8Mq9YmbhhqxxhpQLYjQmKev4uzG898WhP6qa4nlW1eNSVH2dDQeLtsXS/3Uit4LYP/R0BhktRJROONluy+jZqVlIRfbqPKp8vuI1ok9I1yCgem0AdUFJHJRN4SK2d+oykPnBJropn1q7t3TrSGbwUf15eHkRb4ppU1KgWjjSX8jDCkVvuIkngXUV4L96YjuFsVGzdwEjF2+GO0B99I01cUCm8dcv4QpQkcqO8KnZS295GCWr+jmTIkbL7T9Kvh6w6qyFt++TDGWdtCDmeRgBDJCKDjm/ZarAurIi9gI9inVk2Z1cWryqq8ittU/GUu2G60w8NiyFoqPv2zhYAa0Qt2mFz82Dj7tvji8pt6e6yaPdVMoRC2DAI1lQtDYDbLuSymNw+mAN9vQDwG+XNsiLuFWT/yd2UkvpIoohv1ZDpkYAUTJ/pgAKQAF0MktqVA4dN3/diD4/Zg2YZ4WRJjBi0ogGxyeiO4Wf1wSKAFHrKu7oyo=', 'sec-ch-ua-platform': 'macOS'}\n",
      "text:\n",
      "{\"code\":\"10000\",\"from\":\"\",\"type\":\"verify\",\"version\":\"\",\"region\":\"va\",\"subtype\":\"whirl\",\"detail\":\"SMj3mamaUw2hmr*wzq5TUvJ2snnZiZf-2kMuGzUngH*prrxLLpCEk-UFZeZ8o6-SyMnV8qXE6SezxyMWOAoD*leseTHpe8bka7qebHE8Q7G7cnMrR-4UEoOMgRNfcMteXz9x1ua22H2nD3Ws6mxwYzUyw5s5yKxBhnlzfOw7L-SRedtdq3clMld7pZssGs3iXzkKIvGdV8uoo0FDHl6oPE2zA2-SA*KZ5jhfaDey*pKby0KaagQXuKmCwpXNsWoTTGwfIpDxpqxYuKQcZYg8iCyI6mpLiwUTc7oUga0GsZjHDaPoRCOfB6E7srmrSV*rkoW1iE*6r9rub0jcCuEkT49EslWXxoLyLWQgYmbYjZ7V3Jaae3Up-V*uaue2KPkiqXMzaPUWLbTf9O9aw-Q.\",\"verify_event\":\"\",\"fp\":\"verify_a70ee049304985dd1fc40fd61323a331\",\"scene\":\"\",\"verify_ticket\":\"\",\"channel_mobile\":\"\",\"sms_content\":\"\",\"mobile\":\"\",\"email\":\"\"}\n"
     ]
    }
   ],
   "source": [
    "# await page.setExtraHTTPHeaders(headers={\n",
    "#     \"authority\": 'us.tiktok.com',\n",
    "#     \"accept\": \"*/*\",\n",
    "#     \"accept-encoding\": \"gzip, deflate, br\",\n",
    "#     \"accept-language\": \"en-US,en;q=0.9\",\n",
    "#     \"cache-control\": \"no-cache\",\n",
    "#     \"pragma\": \"no-cache\",\n",
    "#     \"sec-ch-ua\": '.Not/A)Brand\";v=\"99\", \"Google Chrome\";v=\"103\", \"Chromium\";v=\"103',\n",
    "#     \"sec-ch-ua-mobile\": \"?0\",\n",
    "#     \"sec-ch-ua-platform\": \"macOS\",\n",
    "#     \"upgrade-insecure-requests\": \"1\",\n",
    "#     \"user-agent\": \"Mozilla/5.0 (Macintosh; Intel Mac OS X 10_15_7) AppleWebKit/537.36 (KHTML, like Gecko) Chrome/103.0.0.0 Safari/537.36\",\n",
    "#     'sec-fetch-dest': 'empty',\n",
    "#     'sec-fetch-mode': 'cors',\n",
    "#     'sec-fetch-site': 'same-site'\n",
    "# })\n",
    "await page.evaluate('window.scrollBy(0, document.body.scrollHeight);')"
   ]
  }
 ],
 "metadata": {
  "kernelspec": {
   "display_name": "Python 3.10.5 64-bit ('3.10.5')",
   "language": "python",
   "name": "python3"
  },
  "language_info": {
   "codemirror_mode": {
    "name": "ipython",
    "version": 3
   },
   "file_extension": ".py",
   "mimetype": "text/x-python",
   "name": "python",
   "nbconvert_exporter": "python",
   "pygments_lexer": "ipython3",
   "version": "3.10.5"
  },
  "orig_nbformat": 4,
  "vscode": {
   "interpreter": {
    "hash": "179fcc813d1e5c8581d84d98e994d04f3305ac6bbcd6a6b84babf8194445add0"
   }
  }
 },
 "nbformat": 4,
 "nbformat_minor": 2
}
